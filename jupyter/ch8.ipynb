{
 "cells": [
  {
   "cell_type": "markdown",
   "metadata": {},
   "source": [
    "# 70. データの入手・整形"
   ]
  },
  {
   "cell_type": "markdown",
   "metadata": {},
   "source": [
    "まずは必要となるpositive/negativeのデータセットをインストールします。"
   ]
  },
  {
   "cell_type": "code",
   "execution_count": null,
   "metadata": {},
   "outputs": [],
   "source": [
    "!bash ../shell/setup_ch8_dataset.sh"
   ]
  },
  {
   "cell_type": "markdown",
   "metadata": {},
   "source": [
    "ファイルが存在することを確認します。"
   ]
  },
  {
   "cell_type": "code",
   "execution_count": null,
   "metadata": {
    "scrolled": true
   },
   "outputs": [],
   "source": [
    "!ls ../data/raw/rt-polaritydata/"
   ]
  },
  {
   "cell_type": "markdown",
   "metadata": {},
   "source": [
    "ファイルの中身を見てみましょう。まずは rt-polarity.pos (ポジティブな文のデータセット) です"
   ]
  },
  {
   "cell_type": "code",
   "execution_count": null,
   "metadata": {},
   "outputs": [],
   "source": [
    "!head -n 3 ../data/raw/rt-polaritydata/rt-polarity.pos"
   ]
  },
  {
   "cell_type": "markdown",
   "metadata": {},
   "source": [
    "次は rt-polarity.neg (ネガティブな文のデータセット) です"
   ]
  },
  {
   "cell_type": "code",
   "execution_count": null,
   "metadata": {},
   "outputs": [],
   "source": [
    "!head -n 3 ../data/raw/rt-polaritydata/rt-polarity.neg"
   ]
  },
  {
   "cell_type": "markdown",
   "metadata": {},
   "source": [
    "## 70-1 rt-polarity.posの各行の先頭に\"+1 \"という文字列を追加する"
   ]
  },
  {
   "cell_type": "markdown",
   "metadata": {},
   "source": [
    "さて1つ目のタスクです。\n",
    "\n",
    "エディタを開いてPythonコードを…とやりたくなるかもしれませんが、このくらいの加工ならターミナル上でワンライナーで書けるようになりましょう。\n",
    "\n",
    "Pythonのコードをいちいち書くよりも簡単に高速に書くことができるため、作業の効率化に繋がります。"
   ]
  },
  {
   "cell_type": "markdown",
   "metadata": {},
   "source": [
    "求められていることは、 1つのファイル内の **各行で** 同様の処理を行うことです。このような場合は、 **awk** を 使います。"
   ]
  },
  {
   "cell_type": "markdown",
   "metadata": {},
   "source": [
    "awkをインストールしましょう\n",
    "環境によりインストール方法が異なるので、各自調べてください。以下のコマンドが成功すればOKです"
   ]
  },
  {
   "cell_type": "code",
   "execution_count": null,
   "metadata": {
    "scrolled": false
   },
   "outputs": [],
   "source": [
    "!echo '' | awk '{print \"OK\"}'"
   ]
  },
  {
   "cell_type": "markdown",
   "metadata": {},
   "source": [
    "以下のワンライナーで、やりたいことを実現できます。"
   ]
  },
  {
   "cell_type": "code",
   "execution_count": null,
   "metadata": {},
   "outputs": [],
   "source": [
    "!cat ../data/raw/rt-polaritydata/rt-polarity.pos | awk '{print \"+1 \"$0}' > ../data/preprocessing/rt-polarity.pos"
   ]
  },
  {
   "cell_type": "markdown",
   "metadata": {},
   "source": [
    "解説です。awkの基本構文は、\n",
    "\n",
    "```sh\n",
    "awk '{ (各行でやりたいこと) }'\n",
    "```\n",
    "\n",
    "です。Pythonで表現するとしたら、\n",
    "\n",
    "```py\n",
    "import sys\n",
    "\n",
    "for line in sys.stdin:\n",
    "    line = line.rstrip()\n",
    "    (各行でやりたいこと)\n",
    "```\n",
    "\n",
    "ですね。"
   ]
  },
  {
   "cell_type": "markdown",
   "metadata": {},
   "source": [
    "今回のタスクでは、各行に対して先頭に `\"+1 \"` という文字列を追加して出力するということをしたいです。\n",
    "\n",
    "出力のために使う関数が `print()` です。\n",
    "\n",
    "`$0` は 「今見ている行 (文字列) 」です。\n",
    "\n",
    "文字列は横に並べると結合できるので、 `\"+1 \"$0` は「+1」「(スペース)」「今見ている行の文字列」を結合した文字列を意味します。\n",
    "\n",
    "この文字列を `print()` して、やりたいことが実現できるわけです。"
   ]
  },
  {
   "cell_type": "markdown",
   "metadata": {},
   "source": [
    "【ひとこと】\n",
    "\n",
    "インストールした圧縮ファイル (compression)、展開したファイル (raw)、システムへの入力となるファイル (preprocessing)のように、別のディレクトリに保存する習慣を付けましょう。\n",
    "\n",
    "元のファイルを上書きしてしまうと、別のやり方を試そうと思った時にもう一度インストールするところから始めなければいけません。"
   ]
  },
  {
   "cell_type": "markdown",
   "metadata": {},
   "source": [
    "## 70-2 rt-polarity.posの各行の先頭に\"-1 \"という文字列を追加する"
   ]
  },
  {
   "cell_type": "markdown",
   "metadata": {},
   "source": [
    "先ほどのやり方を応用して awk で書いてみましょう。\n",
    "\n",
    "以下のセルにシェルコマンドを書いてください。出力先は ../data/preprocessing/rt-polarity.neg です。"
   ]
  },
  {
   "cell_type": "code",
   "execution_count": null,
   "metadata": {
    "scrolled": true
   },
   "outputs": [],
   "source": [
    "!echo ''"
   ]
  },
  {
   "cell_type": "markdown",
   "metadata": {},
   "source": [
    "確認します。\"OK\" が表示されれば成功しています。"
   ]
  },
  {
   "cell_type": "code",
   "execution_count": null,
   "metadata": {
    "scrolled": true
   },
   "outputs": [],
   "source": [
    "! [[ -e ../data/preprocessing/rt-polarity.neg ]] && [[ $(grep -c -v '^-1 [^ ]' ../data/preprocessing/rt-polarity.neg) -ne 0 ]] && [[ $(cat ../data/raw/rt-polaritydata/rt-polarity.neg | wc -l) -eq $(cat ../data/preprocessing/rt-polarity.neg | wc -l) ]] && echo \"OK\""
   ]
  },
  {
   "cell_type": "markdown",
   "metadata": {},
   "source": [
    "## 70-3 posとnegのファイルを結合し、行をランダムに並び替える"
   ]
  },
  {
   "cell_type": "markdown",
   "metadata": {},
   "source": [
    "これもワンライナーですぐにできます。\n",
    "\n",
    "2つのファイルを **結合** するためには `cat` コマンドを使います。\n",
    "\n",
    "あるファイルの中身を **ランダムに並び替える** には、 `sort -R` コマンドを使います。\n",
    "\n",
    "これまでにも使っていましたが、シェルの機能である **パイプ** を使うと、上の2つの処理を続けて行うことができます。"
   ]
  },
  {
   "cell_type": "code",
   "execution_count": null,
   "metadata": {},
   "outputs": [],
   "source": [
    "# 失敗します\n",
    "!cat ../data/preprocessing/rt-polarity.pos ../data/preprocessing/rt-polarity.neg | sort -R"
   ]
  },
  {
   "cell_type": "code",
   "execution_count": null,
   "metadata": {},
   "outputs": [],
   "source": [
    "# おまじないを付けて実行\n",
    "!cat ../data/preprocessing/rt-polarity.pos ../data/preprocessing/rt-polarity.neg | LC_ALL=C sort -R > ../data/preprocessing/sentiment.txt"
   ]
  },
  {
   "cell_type": "code",
   "execution_count": null,
   "metadata": {},
   "outputs": [],
   "source": [
    "# 確認\n",
    "!head -n 5 ../data/preprocessing/sentiment.txt"
   ]
  }
 ],
 "metadata": {
  "kernelspec": {
   "display_name": "Python 3",
   "language": "python",
   "name": "python3"
  },
  "language_info": {
   "codemirror_mode": {
    "name": "ipython",
    "version": 3
   },
   "file_extension": ".py",
   "mimetype": "text/x-python",
   "name": "python",
   "nbconvert_exporter": "python",
   "pygments_lexer": "ipython3",
   "version": "3.7.5"
  }
 },
 "nbformat": 4,
 "nbformat_minor": 4
}
